{
 "cells": [
  {
   "cell_type": "markdown",
   "metadata": {
    "id": "pfa39F4lsLf3"
   },
   "source": [
    "<img src=\"https://github.com/hernancontigiani/ceia_memorias_especializacion/raw/master/Figures/logoFIUBA.jpg\" width=\"500\" align=\"center\">\n",
    "\n",
    "\n",
    "# Procesamiento de lenguaje natural\n",
    "## LSTM Bot QA"
   ]
  },
  {
   "cell_type": "markdown",
   "metadata": {
    "id": "ZqO0PRcFsPTe"
   },
   "source": [
    "### Datos\n",
    "El objecto es utilizar datos disponibles del challenge ConvAI2 (Conversational Intelligence Challenge 2) de conversaciones en inglés. Se construirá un BOT para responder a preguntas del usuario (QA).\\\n",
    "[LINK](http://convai.io/data/)"
   ]
  },
  {
   "cell_type": "code",
   "execution_count": 1,
   "metadata": {
    "id": "bDFC0I3j9oFD"
   },
   "outputs": [],
   "source": [
    "!pip install --upgrade --no-cache-dir gdown --quiet"
   ]
  },
  {
   "cell_type": "code",
   "execution_count": 2,
   "metadata": {
    "colab": {
     "base_uri": "https://localhost:8080/"
    },
    "id": "Ut2uFcC8A08a",
    "outputId": "fff6f2bd-df05-4ec7-efc3-d9a781e3c88b"
   },
   "outputs": [
    {
     "name": "stdout",
     "output_type": "stream",
     "text": [
      "Requirement already satisfied: tensorflow in c:\\users\\emel\\anaconda3\\lib\\site-packages (2.18.0)\n",
      "Requirement already satisfied: tensorflow-intel==2.18.0 in c:\\users\\emel\\anaconda3\\lib\\site-packages (from tensorflow) (2.18.0)\n",
      "Requirement already satisfied: absl-py>=1.0.0 in c:\\users\\emel\\anaconda3\\lib\\site-packages (from tensorflow-intel==2.18.0->tensorflow) (2.1.0)\n",
      "Requirement already satisfied: astunparse>=1.6.0 in c:\\users\\emel\\anaconda3\\lib\\site-packages (from tensorflow-intel==2.18.0->tensorflow) (1.6.3)\n",
      "Requirement already satisfied: flatbuffers>=24.3.25 in c:\\users\\emel\\anaconda3\\lib\\site-packages (from tensorflow-intel==2.18.0->tensorflow) (24.3.25)\n",
      "Requirement already satisfied: gast!=0.5.0,!=0.5.1,!=0.5.2,>=0.2.1 in c:\\users\\emel\\anaconda3\\lib\\site-packages (from tensorflow-intel==2.18.0->tensorflow) (0.6.0)\n",
      "Requirement already satisfied: google-pasta>=0.1.1 in c:\\users\\emel\\anaconda3\\lib\\site-packages (from tensorflow-intel==2.18.0->tensorflow) (0.2.0)\n",
      "Requirement already satisfied: libclang>=13.0.0 in c:\\users\\emel\\anaconda3\\lib\\site-packages (from tensorflow-intel==2.18.0->tensorflow) (18.1.1)\n",
      "Requirement already satisfied: opt-einsum>=2.3.2 in c:\\users\\emel\\anaconda3\\lib\\site-packages (from tensorflow-intel==2.18.0->tensorflow) (3.4.0)\n",
      "Requirement already satisfied: packaging in c:\\users\\emel\\anaconda3\\lib\\site-packages (from tensorflow-intel==2.18.0->tensorflow) (23.1)\n",
      "Requirement already satisfied: protobuf!=4.21.0,!=4.21.1,!=4.21.2,!=4.21.3,!=4.21.4,!=4.21.5,<6.0.0dev,>=3.20.3 in c:\\users\\emel\\anaconda3\\lib\\site-packages (from tensorflow-intel==2.18.0->tensorflow) (5.29.0)\n",
      "Requirement already satisfied: requests<3,>=2.21.0 in c:\\users\\emel\\anaconda3\\lib\\site-packages (from tensorflow-intel==2.18.0->tensorflow) (2.31.0)\n",
      "Requirement already satisfied: setuptools in c:\\users\\emel\\anaconda3\\lib\\site-packages (from tensorflow-intel==2.18.0->tensorflow) (68.2.2)\n",
      "Requirement already satisfied: six>=1.12.0 in c:\\users\\emel\\anaconda3\\lib\\site-packages (from tensorflow-intel==2.18.0->tensorflow) (1.16.0)\n",
      "Requirement already satisfied: termcolor>=1.1.0 in c:\\users\\emel\\anaconda3\\lib\\site-packages (from tensorflow-intel==2.18.0->tensorflow) (2.5.0)\n",
      "Requirement already satisfied: typing-extensions>=3.6.6 in c:\\users\\emel\\anaconda3\\lib\\site-packages (from tensorflow-intel==2.18.0->tensorflow) (4.9.0)\n",
      "Requirement already satisfied: wrapt>=1.11.0 in c:\\users\\emel\\anaconda3\\lib\\site-packages (from tensorflow-intel==2.18.0->tensorflow) (1.14.1)\n",
      "Requirement already satisfied: grpcio<2.0,>=1.24.3 in c:\\users\\emel\\anaconda3\\lib\\site-packages (from tensorflow-intel==2.18.0->tensorflow) (1.68.0)\n",
      "Requirement already satisfied: tensorboard<2.19,>=2.18 in c:\\users\\emel\\anaconda3\\lib\\site-packages (from tensorflow-intel==2.18.0->tensorflow) (2.18.0)\n",
      "Requirement already satisfied: keras>=3.5.0 in c:\\users\\emel\\anaconda3\\lib\\site-packages (from tensorflow-intel==2.18.0->tensorflow) (3.7.0)\n",
      "Requirement already satisfied: numpy<2.1.0,>=1.26.0 in c:\\users\\emel\\anaconda3\\lib\\site-packages (from tensorflow-intel==2.18.0->tensorflow) (1.26.4)\n",
      "Requirement already satisfied: h5py>=3.11.0 in c:\\users\\emel\\anaconda3\\lib\\site-packages (from tensorflow-intel==2.18.0->tensorflow) (3.12.1)\n",
      "Requirement already satisfied: ml-dtypes<0.5.0,>=0.4.0 in c:\\users\\emel\\anaconda3\\lib\\site-packages (from tensorflow-intel==2.18.0->tensorflow) (0.4.1)\n",
      "Requirement already satisfied: tensorflow-io-gcs-filesystem>=0.23.1 in c:\\users\\emel\\anaconda3\\lib\\site-packages (from tensorflow-intel==2.18.0->tensorflow) (0.31.0)\n",
      "Requirement already satisfied: wheel<1.0,>=0.23.0 in c:\\users\\emel\\anaconda3\\lib\\site-packages (from astunparse>=1.6.0->tensorflow-intel==2.18.0->tensorflow) (0.41.2)\n",
      "Requirement already satisfied: rich in c:\\users\\emel\\anaconda3\\lib\\site-packages (from keras>=3.5.0->tensorflow-intel==2.18.0->tensorflow) (13.3.5)\n",
      "Requirement already satisfied: namex in c:\\users\\emel\\anaconda3\\lib\\site-packages (from keras>=3.5.0->tensorflow-intel==2.18.0->tensorflow) (0.0.8)\n",
      "Requirement already satisfied: optree in c:\\users\\emel\\anaconda3\\lib\\site-packages (from keras>=3.5.0->tensorflow-intel==2.18.0->tensorflow) (0.13.1)\n",
      "Requirement already satisfied: charset-normalizer<4,>=2 in c:\\users\\emel\\anaconda3\\lib\\site-packages (from requests<3,>=2.21.0->tensorflow-intel==2.18.0->tensorflow) (2.0.4)\n",
      "Requirement already satisfied: idna<4,>=2.5 in c:\\users\\emel\\anaconda3\\lib\\site-packages (from requests<3,>=2.21.0->tensorflow-intel==2.18.0->tensorflow) (3.4)\n",
      "Requirement already satisfied: urllib3<3,>=1.21.1 in c:\\users\\emel\\anaconda3\\lib\\site-packages (from requests<3,>=2.21.0->tensorflow-intel==2.18.0->tensorflow) (2.0.7)\n",
      "Requirement already satisfied: certifi>=2017.4.17 in c:\\users\\emel\\anaconda3\\lib\\site-packages (from requests<3,>=2.21.0->tensorflow-intel==2.18.0->tensorflow) (2024.8.30)\n",
      "Requirement already satisfied: markdown>=2.6.8 in c:\\users\\emel\\anaconda3\\lib\\site-packages (from tensorboard<2.19,>=2.18->tensorflow-intel==2.18.0->tensorflow) (3.4.1)\n",
      "Requirement already satisfied: tensorboard-data-server<0.8.0,>=0.7.0 in c:\\users\\emel\\anaconda3\\lib\\site-packages (from tensorboard<2.19,>=2.18->tensorflow-intel==2.18.0->tensorflow) (0.7.2)\n",
      "Requirement already satisfied: werkzeug>=1.0.1 in c:\\users\\emel\\anaconda3\\lib\\site-packages (from tensorboard<2.19,>=2.18->tensorflow-intel==2.18.0->tensorflow) (2.2.3)\n",
      "Requirement already satisfied: MarkupSafe>=2.1.1 in c:\\users\\emel\\anaconda3\\lib\\site-packages (from werkzeug>=1.0.1->tensorboard<2.19,>=2.18->tensorflow-intel==2.18.0->tensorflow) (2.1.3)\n",
      "Requirement already satisfied: markdown-it-py<3.0.0,>=2.2.0 in c:\\users\\emel\\anaconda3\\lib\\site-packages (from rich->keras>=3.5.0->tensorflow-intel==2.18.0->tensorflow) (2.2.0)\n",
      "Requirement already satisfied: pygments<3.0.0,>=2.13.0 in c:\\users\\emel\\anaconda3\\lib\\site-packages (from rich->keras>=3.5.0->tensorflow-intel==2.18.0->tensorflow) (2.15.1)\n",
      "Requirement already satisfied: mdurl~=0.1 in c:\\users\\emel\\anaconda3\\lib\\site-packages (from markdown-it-py<3.0.0,>=2.2.0->rich->keras>=3.5.0->tensorflow-intel==2.18.0->tensorflow) (0.1.0)\n"
     ]
    }
   ],
   "source": [
    "!pip install tensorflow"
   ]
  },
  {
   "cell_type": "code",
   "execution_count": 3,
   "metadata": {
    "colab": {
     "base_uri": "https://localhost:8080/"
    },
    "id": "QzFxeI8zFeci",
    "outputId": "93057a3b-198a-424c-c4cb-89ee81506c41"
   },
   "outputs": [
    {
     "name": "stdout",
     "output_type": "stream",
     "text": [
      "Requirement already satisfied: torchinfo in c:\\users\\emel\\anaconda3\\lib\\site-packages (1.8.0)\n"
     ]
    }
   ],
   "source": [
    "!pip3 install torchinfo"
   ]
  },
  {
   "cell_type": "code",
   "execution_count": 4,
   "metadata": {
    "id": "cq3YXak9sGHd"
   },
   "outputs": [],
   "source": [
    "import re\n",
    "\n",
    "import numpy as np\n",
    "import pandas as pd\n",
    "\n",
    "import tensorflow as tf\n",
    "\n",
    "import requests\n",
    "import io\n",
    "from tensorflow.keras.preprocessing.text import Tokenizer\n",
    "from tensorflow.keras.preprocessing.sequence import pad_sequences\n",
    "import torch\n",
    "from torch.utils.data import Dataset, DataLoader\n",
    "import torch.nn.functional as F\n",
    "import torch.nn as nn\n",
    "from torchinfo import summary\n",
    "import matplotlib.pyplot as plt\n",
    "import seaborn as sns"
   ]
  },
  {
   "cell_type": "code",
   "execution_count": 5,
   "metadata": {
    "colab": {
     "base_uri": "https://localhost:8080/"
    },
    "id": "4ygb1x6aFYFl",
    "outputId": "670cbd13-3aae-4d74-b950-4f833c90ad52"
   },
   "outputs": [
    {
     "data": {
      "text/plain": [
       "device(type='cuda')"
      ]
     },
     "execution_count": 5,
     "metadata": {},
     "output_type": "execute_result"
    }
   ],
   "source": [
    "cuda = torch.cuda.is_available()\n",
    "device = torch.device('cuda' if torch.cuda.is_available() else 'cpu')\n",
    "device"
   ]
  },
  {
   "cell_type": "code",
   "execution_count": 6,
   "metadata": {
    "colab": {
     "base_uri": "https://localhost:8080/"
    },
    "id": "RHNkUaPp6aYq",
    "outputId": "d0a83095-26e9-423a-8720-92a6fded5d0f"
   },
   "outputs": [
    {
     "data": {
      "text/html": [
       "<div>\n",
       "<style scoped>\n",
       "    .dataframe tbody tr th:only-of-type {\n",
       "        vertical-align: middle;\n",
       "    }\n",
       "\n",
       "    .dataframe tbody tr th {\n",
       "        vertical-align: top;\n",
       "    }\n",
       "\n",
       "    .dataframe thead th {\n",
       "        text-align: right;\n",
       "    }\n",
       "</style>\n",
       "<table border=\"1\" class=\"dataframe\">\n",
       "  <thead>\n",
       "    <tr style=\"text-align: right;\">\n",
       "      <th></th>\n",
       "      <th>question</th>\n",
       "      <th>answer</th>\n",
       "    </tr>\n",
       "  </thead>\n",
       "  <tbody>\n",
       "    <tr>\n",
       "      <th>0</th>\n",
       "      <td>hi, how are you doing?</td>\n",
       "      <td>i'm fine. how about yourself?</td>\n",
       "    </tr>\n",
       "    <tr>\n",
       "      <th>1</th>\n",
       "      <td>i'm fine. how about yourself?</td>\n",
       "      <td>i'm pretty good. thanks for asking.</td>\n",
       "    </tr>\n",
       "    <tr>\n",
       "      <th>2</th>\n",
       "      <td>i'm pretty good. thanks for asking.</td>\n",
       "      <td>no problem. so how have you been?</td>\n",
       "    </tr>\n",
       "    <tr>\n",
       "      <th>3</th>\n",
       "      <td>no problem. so how have you been?</td>\n",
       "      <td>i've been great. what about you?</td>\n",
       "    </tr>\n",
       "    <tr>\n",
       "      <th>4</th>\n",
       "      <td>i've been great. what about you?</td>\n",
       "      <td>i've been good. i'm in school right now.</td>\n",
       "    </tr>\n",
       "    <tr>\n",
       "      <th>5</th>\n",
       "      <td>i've been good. i'm in school right now.</td>\n",
       "      <td>what school do you go to?</td>\n",
       "    </tr>\n",
       "    <tr>\n",
       "      <th>6</th>\n",
       "      <td>what school do you go to?</td>\n",
       "      <td>i go to pcc.</td>\n",
       "    </tr>\n",
       "    <tr>\n",
       "      <th>7</th>\n",
       "      <td>i go to pcc.</td>\n",
       "      <td>do you like it there?</td>\n",
       "    </tr>\n",
       "    <tr>\n",
       "      <th>8</th>\n",
       "      <td>do you like it there?</td>\n",
       "      <td>it's okay. it's a really big campus.</td>\n",
       "    </tr>\n",
       "    <tr>\n",
       "      <th>9</th>\n",
       "      <td>it's okay. it's a really big campus.</td>\n",
       "      <td>good luck with school.</td>\n",
       "    </tr>\n",
       "    <tr>\n",
       "      <th>10</th>\n",
       "      <td>good luck with school.</td>\n",
       "      <td>thank you very much.</td>\n",
       "    </tr>\n",
       "    <tr>\n",
       "      <th>11</th>\n",
       "      <td>how's it going?</td>\n",
       "      <td>i'm doing well. how about you?</td>\n",
       "    </tr>\n",
       "    <tr>\n",
       "      <th>12</th>\n",
       "      <td>i'm doing well. how about you?</td>\n",
       "      <td>never better, thanks.</td>\n",
       "    </tr>\n",
       "    <tr>\n",
       "      <th>13</th>\n",
       "      <td>never better, thanks.</td>\n",
       "      <td>so how have you been lately?</td>\n",
       "    </tr>\n",
       "    <tr>\n",
       "      <th>14</th>\n",
       "      <td>so how have you been lately?</td>\n",
       "      <td>i've actually been pretty good. you?</td>\n",
       "    </tr>\n",
       "    <tr>\n",
       "      <th>15</th>\n",
       "      <td>i've actually been pretty good. you?</td>\n",
       "      <td>i'm actually in school right now.</td>\n",
       "    </tr>\n",
       "    <tr>\n",
       "      <th>16</th>\n",
       "      <td>i'm actually in school right now.</td>\n",
       "      <td>which school do you attend?</td>\n",
       "    </tr>\n",
       "    <tr>\n",
       "      <th>17</th>\n",
       "      <td>which school do you attend?</td>\n",
       "      <td>i'm attending pcc right now.</td>\n",
       "    </tr>\n",
       "    <tr>\n",
       "      <th>18</th>\n",
       "      <td>i'm attending pcc right now.</td>\n",
       "      <td>are you enjoying it there?</td>\n",
       "    </tr>\n",
       "    <tr>\n",
       "      <th>19</th>\n",
       "      <td>are you enjoying it there?</td>\n",
       "      <td>it's not bad. there are a lot of people there.</td>\n",
       "    </tr>\n",
       "    <tr>\n",
       "      <th>20</th>\n",
       "      <td>it's not bad. there are a lot of people there.</td>\n",
       "      <td>good luck with that.</td>\n",
       "    </tr>\n",
       "    <tr>\n",
       "      <th>21</th>\n",
       "      <td>good luck with that.</td>\n",
       "      <td>thanks.</td>\n",
       "    </tr>\n",
       "    <tr>\n",
       "      <th>22</th>\n",
       "      <td>how are you doing today?</td>\n",
       "      <td>i'm doing great. what about you?</td>\n",
       "    </tr>\n",
       "    <tr>\n",
       "      <th>23</th>\n",
       "      <td>i'm doing great. what about you?</td>\n",
       "      <td>i'm absolutely lovely, thank you.</td>\n",
       "    </tr>\n",
       "    <tr>\n",
       "      <th>24</th>\n",
       "      <td>i'm absolutely lovely, thank you.</td>\n",
       "      <td>everything's been good with you?</td>\n",
       "    </tr>\n",
       "    <tr>\n",
       "      <th>25</th>\n",
       "      <td>everything's been good with you?</td>\n",
       "      <td>i haven't been better. how about yourself?</td>\n",
       "    </tr>\n",
       "    <tr>\n",
       "      <th>26</th>\n",
       "      <td>i haven't been better. how about yourself?</td>\n",
       "      <td>i started school recently.</td>\n",
       "    </tr>\n",
       "    <tr>\n",
       "      <th>27</th>\n",
       "      <td>i started school recently.</td>\n",
       "      <td>where are you going to school?</td>\n",
       "    </tr>\n",
       "    <tr>\n",
       "      <th>28</th>\n",
       "      <td>where are you going to school?</td>\n",
       "      <td>i'm going to pcc.</td>\n",
       "    </tr>\n",
       "    <tr>\n",
       "      <th>29</th>\n",
       "      <td>i'm going to pcc.</td>\n",
       "      <td>how do you like it so far?</td>\n",
       "    </tr>\n",
       "  </tbody>\n",
       "</table>\n",
       "</div>"
      ],
      "text/plain": [
       "                                          question  \\\n",
       "0                           hi, how are you doing?   \n",
       "1                    i'm fine. how about yourself?   \n",
       "2              i'm pretty good. thanks for asking.   \n",
       "3                no problem. so how have you been?   \n",
       "4                 i've been great. what about you?   \n",
       "5         i've been good. i'm in school right now.   \n",
       "6                        what school do you go to?   \n",
       "7                                     i go to pcc.   \n",
       "8                            do you like it there?   \n",
       "9             it's okay. it's a really big campus.   \n",
       "10                          good luck with school.   \n",
       "11                                 how's it going?   \n",
       "12                  i'm doing well. how about you?   \n",
       "13                           never better, thanks.   \n",
       "14                    so how have you been lately?   \n",
       "15            i've actually been pretty good. you?   \n",
       "16               i'm actually in school right now.   \n",
       "17                     which school do you attend?   \n",
       "18                    i'm attending pcc right now.   \n",
       "19                      are you enjoying it there?   \n",
       "20  it's not bad. there are a lot of people there.   \n",
       "21                            good luck with that.   \n",
       "22                        how are you doing today?   \n",
       "23                i'm doing great. what about you?   \n",
       "24               i'm absolutely lovely, thank you.   \n",
       "25                everything's been good with you?   \n",
       "26      i haven't been better. how about yourself?   \n",
       "27                      i started school recently.   \n",
       "28                  where are you going to school?   \n",
       "29                               i'm going to pcc.   \n",
       "\n",
       "                                            answer  \n",
       "0                    i'm fine. how about yourself?  \n",
       "1              i'm pretty good. thanks for asking.  \n",
       "2                no problem. so how have you been?  \n",
       "3                 i've been great. what about you?  \n",
       "4         i've been good. i'm in school right now.  \n",
       "5                        what school do you go to?  \n",
       "6                                     i go to pcc.  \n",
       "7                            do you like it there?  \n",
       "8             it's okay. it's a really big campus.  \n",
       "9                           good luck with school.  \n",
       "10                            thank you very much.  \n",
       "11                  i'm doing well. how about you?  \n",
       "12                           never better, thanks.  \n",
       "13                    so how have you been lately?  \n",
       "14            i've actually been pretty good. you?  \n",
       "15               i'm actually in school right now.  \n",
       "16                     which school do you attend?  \n",
       "17                    i'm attending pcc right now.  \n",
       "18                      are you enjoying it there?  \n",
       "19  it's not bad. there are a lot of people there.  \n",
       "20                            good luck with that.  \n",
       "21                                         thanks.  \n",
       "22                i'm doing great. what about you?  \n",
       "23               i'm absolutely lovely, thank you.  \n",
       "24                everything's been good with you?  \n",
       "25      i haven't been better. how about yourself?  \n",
       "26                      i started school recently.  \n",
       "27                  where are you going to school?  \n",
       "28                               i'm going to pcc.  \n",
       "29                      how do you like it so far?  "
      ]
     },
     "execution_count": 6,
     "metadata": {},
     "output_type": "execute_result"
    }
   ],
   "source": [
    "url = \"https://raw.githubusercontent.com/cristianEmel/nlp/refs/heads/main/Conversation.csv\"\n",
    "response = requests.get(url)\n",
    "response.raise_for_status()\n",
    "df = pd.read_csv(io.StringIO(response.text), sep=',', on_bad_lines='skip')\n",
    "df = df.drop(df.columns[0], axis=1)\n",
    "df.head(30)"
   ]
  },
  {
   "cell_type": "code",
   "execution_count": 7,
   "metadata": {
    "colab": {
     "base_uri": "https://localhost:8080/"
    },
    "id": "jHBRAXPl-3dz",
    "outputId": "668ab425-ec97-4cbc-babe-c428a0c5ce2e"
   },
   "outputs": [
    {
     "name": "stdout",
     "output_type": "stream",
     "text": [
      "Cantidad de rows utilizadas: 3477\n"
     ]
    }
   ],
   "source": [
    "chat_in = []\n",
    "chat_out = []\n",
    "\n",
    "input_sentences = []\n",
    "output_sentences = []\n",
    "output_sentences_inputs = []\n",
    "max_len = 60\n",
    "\n",
    "def preprocess_text(text):\n",
    "    text = text.lower()  # Convert to lowercase\n",
    "    text = re.sub(r\"[^a-zA-Z0-9\\s]\", \"\", text)  # Remove special characters\n",
    "    text = re.sub(r\"\\s+\", \" \", text).strip()  # Remove extra spaces\n",
    "    return text\n",
    "\n",
    "for index, row in df.iterrows():\n",
    "      # vamos separando el texto en \"preguntas\" (chat_in)\n",
    "      # y \"respuestas\" (chat_out)\n",
    "      chat_in = preprocess_text(row['question'])\n",
    "      chat_out = preprocess_text(row['answer'])\n",
    "\n",
    "      if pd.isna(chat_in) or pd.isna(chat_out):\n",
    "        continue\n",
    "\n",
    "      if len(chat_in) >= max_len or len(chat_out) >= max_len:\n",
    "          continue\n",
    "\n",
    "      input_sentence, output = chat_in, chat_out\n",
    "\n",
    "      # output sentence (decoder_output) tiene <eos>\n",
    "      output_sentence = output + ' <eos>'\n",
    "      # output sentence input (decoder_input) tiene <sos>\n",
    "      output_sentence_input = '<sos> ' + output\n",
    "\n",
    "      input_sentences.append(input_sentence)\n",
    "      output_sentences.append(output_sentence)\n",
    "      output_sentences_inputs.append(output_sentence_input)\n",
    "\n",
    "print(\"Cantidad de rows utilizadas:\", len(input_sentences))"
   ]
  },
  {
   "cell_type": "code",
   "execution_count": 8,
   "metadata": {
    "colab": {
     "base_uri": "https://localhost:8080/"
    },
    "id": "07L1qj8pC_l6",
    "outputId": "be26c0fc-ee8b-4025-fefe-079ffdae791a"
   },
   "outputs": [
    {
     "data": {
      "text/plain": [
       "('im fine how about yourself',\n",
       " 'im pretty good thanks for asking <eos>',\n",
       " '<sos> im pretty good thanks for asking')"
      ]
     },
     "execution_count": 8,
     "metadata": {},
     "output_type": "execute_result"
    }
   ],
   "source": [
    "input_sentences[1], output_sentences[1], output_sentences_inputs[1]"
   ]
  },
  {
   "cell_type": "code",
   "execution_count": 9,
   "metadata": {
    "id": "M5s2L4g6y2aR"
   },
   "outputs": [],
   "source": [
    "MAX_VOCAB_SIZE = 10000"
   ]
  },
  {
   "cell_type": "markdown",
   "metadata": {
    "id": "8P-ynUNP5xp6"
   },
   "source": [
    "### 2 - Preprocesamiento\n",
    "Realizar el preprocesamiento necesario para obtener:\n",
    "- word2idx_inputs, max_input_len\n",
    "- word2idx_outputs, max_out_len, num_words_output\n",
    "- encoder_input_sequences, decoder_output_sequences, decoder_targets"
   ]
  },
  {
   "cell_type": "code",
   "execution_count": 10,
   "metadata": {
    "colab": {
     "base_uri": "https://localhost:8080/"
    },
    "id": "8RgEoVRJy4nq",
    "outputId": "11224fa5-87c6-4d54-d34d-22e5bf753664"
   },
   "outputs": [
    {
     "name": "stdout",
     "output_type": "stream",
     "text": [
      "Palabras en el vocabulario: 2254\n",
      "Sentencia de entrada más larga: 16\n"
     ]
    }
   ],
   "source": [
    "input_tokenizer = Tokenizer(num_words=MAX_VOCAB_SIZE)\n",
    "input_tokenizer.fit_on_texts(input_sentences)\n",
    "input_integer_seq = input_tokenizer.texts_to_sequences(input_sentences)\n",
    "\n",
    "word2idx_inputs = input_tokenizer.word_index\n",
    "print(\"Palabras en el vocabulario:\", len(word2idx_inputs))\n",
    "\n",
    "max_input_len = max(len(sen) for sen in input_integer_seq)\n",
    "print(\"Sentencia de entrada más larga:\", max_input_len)"
   ]
  },
  {
   "cell_type": "code",
   "execution_count": 11,
   "metadata": {
    "colab": {
     "base_uri": "https://localhost:8080/"
    },
    "id": "dsWg4br8Bmmd",
    "outputId": "62028dd2-3e2c-48f6-8131-b74f6036024e"
   },
   "outputs": [
    {
     "name": "stdout",
     "output_type": "stream",
     "text": [
      "Palabras en el vocabulario: 2310\n",
      "Sentencia de salida más larga: 17\n"
     ]
    }
   ],
   "source": [
    "output_tokenizer = Tokenizer(num_words=MAX_VOCAB_SIZE, filters='!\"#$%&()*+,-./:;=¿?@[\\\\]^_`{|}~\\t\\n')\n",
    "output_tokenizer.fit_on_texts([\"<sos>\", \"<eos>\"] + output_sentences)\n",
    "output_integer_seq = output_tokenizer.texts_to_sequences(output_sentences)\n",
    "output_input_integer_seq = output_tokenizer.texts_to_sequences(output_sentences_inputs)\n",
    "\n",
    "word2idx_outputs = output_tokenizer.word_index\n",
    "print(\"Palabras en el vocabulario:\", len(word2idx_outputs))\n",
    "\n",
    "num_words_output = min(len(word2idx_outputs) + 1, MAX_VOCAB_SIZE) # Se suma 1 por el primer <sos>\n",
    "max_out_len = max(len(sen) for sen in output_integer_seq)\n",
    "print(\"Sentencia de salida más larga:\", max_out_len)"
   ]
  },
  {
   "cell_type": "code",
   "execution_count": 12,
   "metadata": {
    "colab": {
     "base_uri": "https://localhost:8080/"
    },
    "id": "2JC7c_XBCAhs",
    "outputId": "7569decb-31e6-437b-e0d5-9bfe03296886"
   },
   "outputs": [
    {
     "name": "stdout",
     "output_type": "stream",
     "text": [
      "Cantidad de rows del dataset: 3477\n",
      "encoder_input_sequences shape: (3477, 16)\n",
      "decoder_input_sequences shape: (3477, 17)\n"
     ]
    }
   ],
   "source": [
    "print(\"Cantidad de rows del dataset:\", len(input_integer_seq))\n",
    "\n",
    "encoder_input_sequences = pad_sequences(input_integer_seq, maxlen=max_input_len)\n",
    "print(\"encoder_input_sequences shape:\", encoder_input_sequences.shape)\n",
    "\n",
    "decoder_input_sequences = pad_sequences(output_input_integer_seq, maxlen=max_out_len, padding='post')\n",
    "print(\"decoder_input_sequences shape:\", decoder_input_sequences.shape)"
   ]
  },
  {
   "cell_type": "code",
   "execution_count": 13,
   "metadata": {
    "colab": {
     "base_uri": "https://localhost:8080/"
    },
    "id": "ldlYHkJsDCV0",
    "outputId": "bf30fe44-e1d6-4243-e94c-8592992493ac"
   },
   "outputs": [
    {
     "name": "stdout",
     "output_type": "stream",
     "text": [
      "decoder_output_sequences shape: (3477, 17)\n"
     ]
    }
   ],
   "source": [
    "decoder_output_sequences = pad_sequences(output_integer_seq, maxlen=max_out_len, padding='post')\n",
    "print(\"decoder_output_sequences shape:\", decoder_output_sequences.shape)"
   ]
  },
  {
   "cell_type": "code",
   "execution_count": 14,
   "metadata": {
    "colab": {
     "base_uri": "https://localhost:8080/"
    },
    "id": "BgmrgKRTDSKn",
    "outputId": "90b440be-95de-4db2-d69c-67afbcbde375"
   },
   "outputs": [
    {
     "name": "stdout",
     "output_type": "stream",
     "text": [
      "encoder_input_size: 16\n",
      "decoder_input_size: 17\n",
      "Output dim 2311\n"
     ]
    }
   ],
   "source": [
    "class Data(Dataset):\n",
    "    def __init__(self, encoder_input, decoder_input, decoder_output):\n",
    "        # Convertir los arrays de numpy a tensores.\n",
    "        # pytorch espera en general entradas 32bits\n",
    "        self.encoder_inputs = torch.from_numpy(encoder_input.astype(np.int32))\n",
    "        self.decoder_inputs = torch.from_numpy(decoder_input.astype(np.int32))\n",
    "        # Transformar los datos a oneHotEncoding\n",
    "        # la loss function esperan la salida float\n",
    "        self.decoder_outputs = F.one_hot(torch.from_numpy(decoder_output).to(torch.int64), num_classes=num_words_output).float()\n",
    "\n",
    "        self.len = self.decoder_outputs.shape[0]\n",
    "\n",
    "    def __getitem__(self,index):\n",
    "        return self.encoder_inputs[index], self.decoder_inputs[index], self.decoder_outputs[index]\n",
    "\n",
    "    def __len__(self):\n",
    "        return self.len\n",
    "\n",
    "data_set = Data(encoder_input_sequences, decoder_input_sequences, decoder_output_sequences)\n",
    "\n",
    "encoder_input_size = data_set.encoder_inputs.shape[1]\n",
    "print(\"encoder_input_size:\", encoder_input_size)\n",
    "\n",
    "decoder_input_size = data_set.decoder_inputs.shape[1]\n",
    "print(\"decoder_input_size:\", decoder_input_size)\n",
    "\n",
    "output_dim = data_set.decoder_outputs.shape[2]\n",
    "print(\"Output dim\", output_dim)"
   ]
  },
  {
   "cell_type": "code",
   "execution_count": 15,
   "metadata": {
    "colab": {
     "base_uri": "https://localhost:8080/"
    },
    "id": "dbt0FEbzDqM0",
    "outputId": "04aed62c-d40f-4f30-fce5-f5dad8c56ca0"
   },
   "outputs": [
    {
     "name": "stdout",
     "output_type": "stream",
     "text": [
      "Tamaño del conjunto de entrenamiento: 2782\n",
      "Tamaño del conjunto de validacion: 695\n"
     ]
    }
   ],
   "source": [
    "torch.manual_seed(42)\n",
    "valid_set_size = int(data_set.len * 0.2)\n",
    "train_set_size = data_set.len - valid_set_size\n",
    "\n",
    "train_set = torch.utils.data.Subset(data_set, range(train_set_size))\n",
    "valid_set = torch.utils.data.Subset(data_set, range(train_set_size, data_set.len))\n",
    "\n",
    "print(\"Tamaño del conjunto de entrenamiento:\", len(train_set))\n",
    "print(\"Tamaño del conjunto de validacion:\", len(valid_set))\n",
    "\n",
    "train_loader = torch.utils.data.DataLoader(train_set, batch_size=64, shuffle=True)\n",
    "valid_loader = torch.utils.data.DataLoader(valid_set, batch_size=64, shuffle=False)"
   ]
  },
  {
   "cell_type": "markdown",
   "metadata": {
    "id": "_CJIsLBbj6rg"
   },
   "source": [
    "### 3 - Preparar los embeddings\n",
    "Utilizar los embeddings de Glove o FastText para transformar los tokens de entrada en vectores"
   ]
  },
  {
   "cell_type": "code",
   "execution_count": 16,
   "metadata": {
    "colab": {
     "base_uri": "https://localhost:8080/"
    },
    "id": "xFQzol50Er4B",
    "outputId": "642b911a-73b9-4389-c864-ca5d00d81375"
   },
   "outputs": [
    {
     "name": "stdout",
     "output_type": "stream",
     "text": [
      "File already downloaded.\n",
      "Extracted files to ./fasttext_files/\n",
      "Found .vec file: ./fasttext_files/wiki-news-300d-1M-subword.vec\n",
      "Saved embeddings to fasttext.pkl\n"
     ]
    }
   ],
   "source": [
    "import os\n",
    "import gdown\n",
    "import zipfile\n",
    "import pickle\n",
    "\n",
    "# URL of the .zip file on Google Drive (replace with your file's ID)\n",
    "url = 'https://dl.fbaipublicfiles.com/fasttext/vectors-english/wiki-news-300d-1M-subword.vec.zip'\n",
    "\n",
    "# Output path where you want to save the downloaded file\n",
    "zip_output = 'fasttext.zip'\n",
    "\n",
    "# Download the .zip file\n",
    "if not os.path.exists(zip_output):\n",
    "    gdown.download(url, zip_output, quiet=False)\n",
    "else:\n",
    "    print(\"File already downloaded.\")\n",
    "\n",
    "# Extract the .zip file\n",
    "extract_dir = './fasttext_files/'\n",
    "if not os.path.exists(extract_dir):\n",
    "    os.makedirs(extract_dir)\n",
    "\n",
    "with zipfile.ZipFile(zip_output, 'r') as zip_ref:\n",
    "    zip_ref.extractall(extract_dir)\n",
    "    print(f\"Extracted files to {extract_dir}\")\n",
    "\n",
    "# Assuming the .zip file contains a .vec file, find it\n",
    "vec_file = None\n",
    "for file_name in os.listdir(extract_dir):\n",
    "    if file_name.endswith('.vec'):\n",
    "        vec_file = os.path.join(extract_dir, file_name)\n",
    "        break\n",
    "\n",
    "if vec_file:\n",
    "    print(f\"Found .vec file: {vec_file}\")\n",
    "\n",
    "    # Load the .vec file and prepare it as a dictionary (word embeddings)\n",
    "    embeddings = {}\n",
    "    with open(vec_file, 'r', encoding='utf-8') as f:\n",
    "        # Skip the header line that contains vocab size and embedding dimension\n",
    "        first_line = f.readline().split()\n",
    "        vocab_size, embedding_dim = int(first_line[0]), int(first_line[1])\n",
    "\n",
    "        for line in f:\n",
    "            parts = line.strip().split()\n",
    "            word = parts[0]\n",
    "            vector = list(map(float, parts[1:]))\n",
    "            embeddings[word] = vector\n",
    "\n",
    "    # Save the embeddings as a .pkl file\n",
    "    fasttext_pkl = 'fasttext.pkl'\n",
    "    with open(fasttext_pkl, 'wb') as pkl_file:\n",
    "        pickle.dump(embeddings, pkl_file)\n",
    "\n",
    "    print(f\"Saved embeddings to {fasttext_pkl}\")\n",
    "else:\n",
    "    print(\"No .vec file found in the extracted .zip file.\")"
   ]
  },
  {
   "cell_type": "code",
   "execution_count": 17,
   "metadata": {
    "id": "Ey5W3GlhEz_H"
   },
   "outputs": [],
   "source": [
    "import logging\n",
    "import os\n",
    "from pathlib import Path\n",
    "import pickle\n",
    "import numpy as np\n",
    "\n",
    "class WordsEmbeddings(object):\n",
    "    logger = logging.getLogger(__name__)\n",
    "\n",
    "    def __init__(self):\n",
    "        # load the embeddings\n",
    "        words_embedding_pkl = Path(self.PKL_PATH)\n",
    "        if not words_embedding_pkl.is_file():\n",
    "            words_embedding_txt = Path(self.WORD_TO_VEC_MODEL_TXT_PATH)\n",
    "            assert words_embedding_txt.is_file(), 'Words embedding not available'\n",
    "            embeddings = self.convert_model_to_pickle()\n",
    "        else:\n",
    "            embeddings = self.load_model_from_pickle()\n",
    "        self.embeddings = embeddings\n",
    "        index = np.arange(len(self.embeddings))\n",
    "\n",
    "        # Dicctionarios para traducir de embedding a IDX de la palabra\n",
    "        self.word2idx = dict(zip(list(self.embeddings.keys()), index)) # Modification: Use keys for word2idx\n",
    "        self.idx2word = dict(zip(index, list(self.embeddings.keys()))) #\n",
    "\n",
    "    def get_words_embeddings(self, words):\n",
    "        words_idxs = self.words2idxs(words)\n",
    "\n",
    "        # Modification: Return embeddings based on words_idxs\n",
    "        return np.array([self.embeddings.get(self.idx2word.get(idx, '-1'), np.zeros(self.N_FEATURES)) for idx in words_idxs])\n",
    "\n",
    "\n",
    "    def words2idxs(self, words):\n",
    "        return np.array([self.word2idx.get(word, -1) for word in words])\n",
    "\n",
    "    def idxs2words(self, idxs):\n",
    "        return np.array([self.idx2word.get(idx, '-1') for idx in idxs])\n",
    "\n",
    "    def load_model_from_pickle(self):\n",
    "        self.logger.debug(\n",
    "            'loading words embeddings from pickle {}'.format(\n",
    "                self.PKL_PATH\n",
    "            )\n",
    "        )\n",
    "        max_bytes = 2**28 - 1 # 256MB\n",
    "        bytes_in = bytearray(0)\n",
    "        input_size = os.path.getsize(self.PKL_PATH)\n",
    "        with open(self.PKL_PATH, 'rb') as f_in:\n",
    "            for _ in range(0, input_size, max_bytes):\n",
    "                bytes_in += f_in.read(max_bytes)\n",
    "        embeddings = pickle.loads(bytes_in)\n",
    "        self.logger.debug('words embeddings loaded')\n",
    "        return embeddings\n",
    "\n",
    "    def convert_model_to_pickle(self):\n",
    "        # create a numpy strctured array:\n",
    "        # word     embedding\n",
    "        # U50      np.float32[]\n",
    "        # word_1   a, b, c\n",
    "        # word_2   d, e, f\n",
    "        # ...\n",
    "        # word_n   g, h, i\n",
    "        self.logger.debug(\n",
    "            'converting and loading words embeddings from text file {}'.format(\n",
    "                self.WORD_TO_VEC_MODEL_TXT_PATH\n",
    "            )\n",
    "        )\n",
    "        structure = [('word', np.dtype('U' + str(self.WORD_MAX_SIZE))),\n",
    "                     ('embedding', np.float32, (self.N_FEATURES,))]\n",
    "        structure = np.dtype(structure)\n",
    "        # load numpy array from disk using a generator\n",
    "        with open(self.WORD_TO_VEC_MODEL_TXT_PATH, encoding=\"utf8\") as words_embeddings_txt:\n",
    "            embeddings_gen = (\n",
    "                (line.split()[0], line.split()[1:]) for line in words_embeddings_txt\n",
    "                if len(line.split()[1:]) == self.N_FEATURES\n",
    "            )\n",
    "            embeddings = np.fromiter(embeddings_gen, structure)\n",
    "        # add a null embedding\n",
    "        null_embedding = np.array(\n",
    "            [('null_embedding', np.zeros((self.N_FEATURES,), dtype=np.float32))],\n",
    "            dtype=structure\n",
    "        )\n",
    "        embeddings = np.concatenate([embeddings, null_embedding])\n",
    "        # dump numpy array to disk using pickle\n",
    "        max_bytes = 2**28 - 1 # # 256MB\n",
    "        bytes_out = pickle.dumps(embeddings, protocol=pickle.HIGHEST_PROTOCOL)\n",
    "        with open(self.PKL_PATH, 'wb') as f_out:\n",
    "            for idx in range(0, len(bytes_out), max_bytes):\n",
    "                f_out.write(bytes_out[idx:idx+max_bytes])\n",
    "        self.logger.debug('words embeddings loaded')\n",
    "        return embeddings\n",
    "\n",
    "\n",
    "class GloveEmbeddings(WordsEmbeddings):\n",
    "    WORD_TO_VEC_MODEL_TXT_PATH = 'glove.twitter.27B.50d.txt'\n",
    "    PKL_PATH = 'gloveembedding.pkl'\n",
    "    N_FEATURES = 50\n",
    "    WORD_MAX_SIZE = 60\n",
    "\n",
    "class FasttextEmbeddings(WordsEmbeddings):\n",
    "    WORD_TO_VEC_MODEL_TXT_PATH = 'cc.en.300.vec'\n",
    "    PKL_PATH = 'fasttext.pkl'\n",
    "    N_FEATURES = 300\n",
    "    WORD_MAX_SIZE = 60"
   ]
  },
  {
   "cell_type": "code",
   "execution_count": 18,
   "metadata": {
    "id": "wyHXPwXNTs2t"
   },
   "outputs": [],
   "source": [
    "model_embeddings = FasttextEmbeddings()"
   ]
  },
  {
   "cell_type": "code",
   "execution_count": 19,
   "metadata": {
    "id": "gkTr5n8nE_qH"
   },
   "outputs": [
    {
     "name": "stdout",
     "output_type": "stream",
     "text": [
      "preparing embedding matrix...\n",
      "number of null word embeddings: 1\n"
     ]
    }
   ],
   "source": [
    "# Crear la Embedding matrix de las secuencias\n",
    "# en ingles\n",
    "\n",
    "print('preparing embedding matrix...')\n",
    "embed_dim = model_embeddings.N_FEATURES\n",
    "words_not_found = []\n",
    "\n",
    "# word_index provieen del tokenizer\n",
    "\n",
    "nb_words = min(MAX_VOCAB_SIZE, len(word2idx_inputs)) # vocab_size\n",
    "embedding_matrix = np.zeros((nb_words, embed_dim))\n",
    "for word, i in word2idx_inputs.items():\n",
    "    if i >= nb_words:\n",
    "        continue\n",
    "    embedding_vector = model_embeddings.get_words_embeddings(word)[0]\n",
    "    if (embedding_vector is not None) and len(embedding_vector) > 0:\n",
    "\n",
    "        embedding_matrix[i] = embedding_vector\n",
    "    else:\n",
    "        # words not found in embedding index will be all-zeros.\n",
    "        words_not_found.append(word)\n",
    "\n",
    "print('number of null word embeddings:', np.sum(np.sum(embedding_matrix, axis=1) == 0))"
   ]
  },
  {
   "cell_type": "markdown",
   "metadata": {
    "id": "3vKbhjtIwPgM"
   },
   "source": [
    "### 4 - Entrenar el modelo\n",
    "Entrenar un modelo basado en el esquema encoder-decoder utilizando los datos generados en los puntos anteriores. Utilce como referencias los ejemplos vistos en clase."
   ]
  },
  {
   "cell_type": "code",
   "execution_count": 20,
   "metadata": {
    "id": "SjUT_OJsFG55"
   },
   "outputs": [
    {
     "data": {
      "text/plain": [
       "==========================================================================================\n",
       "Layer (type:depth-idx)                   Output Shape              Param #\n",
       "==========================================================================================\n",
       "Seq2Seq                                  [1, 17, 2311]             --\n",
       "├─Encoder: 1-1                           [1, 1, 128]               --\n",
       "│    └─Embedding: 2-1                    [1, 16, 300]              (676,200)\n",
       "│    └─LSTM: 2-2                         [1, 16, 128]              220,160\n",
       "├─Decoder: 1-2                           [1, 2311]                 --\n",
       "│    └─Embedding: 2-3                    [1, 1, 300]               693,300\n",
       "│    └─LSTM: 2-4                         [1, 1, 128]               220,160\n",
       "│    └─Linear: 2-5                       [1, 2311]                 298,119\n",
       "│    └─Softmax: 2-6                      [1, 2311]                 --\n",
       "├─Decoder: 1-3                           [1, 2311]                 (recursive)\n",
       "│    └─Embedding: 2-7                    [1, 1, 300]               (recursive)\n",
       "│    └─LSTM: 2-8                         [1, 1, 128]               (recursive)\n",
       "│    └─Linear: 2-9                       [1, 2311]                 (recursive)\n",
       "│    └─Softmax: 2-10                     [1, 2311]                 --\n",
       "├─Decoder: 1-4                           [1, 2311]                 (recursive)\n",
       "│    └─Embedding: 2-11                   [1, 1, 300]               (recursive)\n",
       "│    └─LSTM: 2-12                        [1, 1, 128]               (recursive)\n",
       "│    └─Linear: 2-13                      [1, 2311]                 (recursive)\n",
       "│    └─Softmax: 2-14                     [1, 2311]                 --\n",
       "├─Decoder: 1-5                           [1, 2311]                 (recursive)\n",
       "│    └─Embedding: 2-15                   [1, 1, 300]               (recursive)\n",
       "│    └─LSTM: 2-16                        [1, 1, 128]               (recursive)\n",
       "│    └─Linear: 2-17                      [1, 2311]                 (recursive)\n",
       "│    └─Softmax: 2-18                     [1, 2311]                 --\n",
       "├─Decoder: 1-6                           [1, 2311]                 (recursive)\n",
       "│    └─Embedding: 2-19                   [1, 1, 300]               (recursive)\n",
       "│    └─LSTM: 2-20                        [1, 1, 128]               (recursive)\n",
       "│    └─Linear: 2-21                      [1, 2311]                 (recursive)\n",
       "│    └─Softmax: 2-22                     [1, 2311]                 --\n",
       "├─Decoder: 1-7                           [1, 2311]                 (recursive)\n",
       "│    └─Embedding: 2-23                   [1, 1, 300]               (recursive)\n",
       "│    └─LSTM: 2-24                        [1, 1, 128]               (recursive)\n",
       "│    └─Linear: 2-25                      [1, 2311]                 (recursive)\n",
       "│    └─Softmax: 2-26                     [1, 2311]                 --\n",
       "├─Decoder: 1-8                           [1, 2311]                 (recursive)\n",
       "│    └─Embedding: 2-27                   [1, 1, 300]               (recursive)\n",
       "│    └─LSTM: 2-28                        [1, 1, 128]               (recursive)\n",
       "│    └─Linear: 2-29                      [1, 2311]                 (recursive)\n",
       "│    └─Softmax: 2-30                     [1, 2311]                 --\n",
       "├─Decoder: 1-9                           [1, 2311]                 (recursive)\n",
       "│    └─Embedding: 2-31                   [1, 1, 300]               (recursive)\n",
       "│    └─LSTM: 2-32                        [1, 1, 128]               (recursive)\n",
       "│    └─Linear: 2-33                      [1, 2311]                 (recursive)\n",
       "│    └─Softmax: 2-34                     [1, 2311]                 --\n",
       "├─Decoder: 1-10                          [1, 2311]                 (recursive)\n",
       "│    └─Embedding: 2-35                   [1, 1, 300]               (recursive)\n",
       "│    └─LSTM: 2-36                        [1, 1, 128]               (recursive)\n",
       "│    └─Linear: 2-37                      [1, 2311]                 (recursive)\n",
       "│    └─Softmax: 2-38                     [1, 2311]                 --\n",
       "├─Decoder: 1-11                          [1, 2311]                 (recursive)\n",
       "│    └─Embedding: 2-39                   [1, 1, 300]               (recursive)\n",
       "│    └─LSTM: 2-40                        [1, 1, 128]               (recursive)\n",
       "│    └─Linear: 2-41                      [1, 2311]                 (recursive)\n",
       "│    └─Softmax: 2-42                     [1, 2311]                 --\n",
       "├─Decoder: 1-12                          [1, 2311]                 (recursive)\n",
       "│    └─Embedding: 2-43                   [1, 1, 300]               (recursive)\n",
       "│    └─LSTM: 2-44                        [1, 1, 128]               (recursive)\n",
       "│    └─Linear: 2-45                      [1, 2311]                 (recursive)\n",
       "│    └─Softmax: 2-46                     [1, 2311]                 --\n",
       "├─Decoder: 1-13                          [1, 2311]                 (recursive)\n",
       "│    └─Embedding: 2-47                   [1, 1, 300]               (recursive)\n",
       "│    └─LSTM: 2-48                        [1, 1, 128]               (recursive)\n",
       "│    └─Linear: 2-49                      [1, 2311]                 (recursive)\n",
       "│    └─Softmax: 2-50                     [1, 2311]                 --\n",
       "├─Decoder: 1-14                          [1, 2311]                 (recursive)\n",
       "│    └─Embedding: 2-51                   [1, 1, 300]               (recursive)\n",
       "│    └─LSTM: 2-52                        [1, 1, 128]               (recursive)\n",
       "│    └─Linear: 2-53                      [1, 2311]                 (recursive)\n",
       "│    └─Softmax: 2-54                     [1, 2311]                 --\n",
       "├─Decoder: 1-15                          [1, 2311]                 (recursive)\n",
       "│    └─Embedding: 2-55                   [1, 1, 300]               (recursive)\n",
       "│    └─LSTM: 2-56                        [1, 1, 128]               (recursive)\n",
       "│    └─Linear: 2-57                      [1, 2311]                 (recursive)\n",
       "│    └─Softmax: 2-58                     [1, 2311]                 --\n",
       "├─Decoder: 1-16                          [1, 2311]                 (recursive)\n",
       "│    └─Embedding: 2-59                   [1, 1, 300]               (recursive)\n",
       "│    └─LSTM: 2-60                        [1, 1, 128]               (recursive)\n",
       "│    └─Linear: 2-61                      [1, 2311]                 (recursive)\n",
       "│    └─Softmax: 2-62                     [1, 2311]                 --\n",
       "├─Decoder: 1-17                          [1, 2311]                 (recursive)\n",
       "│    └─Embedding: 2-63                   [1, 1, 300]               (recursive)\n",
       "│    └─LSTM: 2-64                        [1, 1, 128]               (recursive)\n",
       "│    └─Linear: 2-65                      [1, 2311]                 (recursive)\n",
       "│    └─Softmax: 2-66                     [1, 2311]                 --\n",
       "├─Decoder: 1-18                          [1, 2311]                 (recursive)\n",
       "│    └─Embedding: 2-67                   [1, 1, 300]               (recursive)\n",
       "│    └─LSTM: 2-68                        [1, 1, 128]               (recursive)\n",
       "│    └─Linear: 2-69                      [1, 2311]                 (recursive)\n",
       "│    └─Softmax: 2-70                     [1, 2311]                 --\n",
       "==========================================================================================\n",
       "Total params: 2,107,939\n",
       "Trainable params: 1,431,739\n",
       "Non-trainable params: 676,200\n",
       "Total mult-adds (Units.MEGABYTES): 24.80\n",
       "==========================================================================================\n",
       "Input size (MB): 0.00\n",
       "Forward/backward pass size (MB): 0.43\n",
       "Params size (MB): 8.43\n",
       "Estimated Total Size (MB): 8.86\n",
       "=========================================================================================="
      ]
     },
     "execution_count": 20,
     "metadata": {},
     "output_type": "execute_result"
    }
   ],
   "source": [
    "class Encoder(nn.Module):\n",
    "    def __init__(self, vocab_size):\n",
    "        super().__init__()\n",
    "        # num_embeddings = vocab_size, definido por le Tokenizador\n",
    "        # embedding_dim = 50 --> dimensión de los embeddings utilizados\n",
    "        self.lstm_size = 128\n",
    "        self.num_layers = 1\n",
    "        self.embedding_dim = embed_dim\n",
    "        self.embedding = nn.Embedding(num_embeddings=vocab_size, embedding_dim=self.embedding_dim, padding_idx=0)\n",
    "        self.embedding.weight.data.copy_(torch.from_numpy(embedding_matrix))\n",
    "        self.embedding.weight.requires_grad = False  # marcar como layer no entrenable (freeze)\n",
    "        self.lstm = nn.LSTM(input_size=self.embedding_dim, hidden_size=self.lstm_size, batch_first=True,\n",
    "                            num_layers=self.num_layers) # LSTM layer\n",
    "\n",
    "    def forward(self, x):\n",
    "        out = self.embedding(x)\n",
    "        lstm_output, (ht, ct) = self.lstm(out)\n",
    "        return (ht, ct)\n",
    "\n",
    "class Decoder(nn.Module):\n",
    "    def __init__(self, vocab_size, output_dim):\n",
    "        super().__init__()\n",
    "        # num_embeddings = vocab_size, definido por le Tokenizador\n",
    "        # embedding_dim = 50 --> dimensión de los embeddings utilizados\n",
    "        self.lstm_size = 128\n",
    "        self.num_layers = 1\n",
    "        self.embedding_dim = embed_dim\n",
    "        self.output_dim = output_dim\n",
    "\n",
    "        self.embedding = nn.Embedding(num_embeddings=vocab_size, embedding_dim=self.embedding_dim, padding_idx=0)\n",
    "        self.lstm = nn.LSTM(input_size=self.embedding_dim, hidden_size=self.lstm_size, batch_first=True,\n",
    "                            num_layers=self.num_layers) # LSTM layer\n",
    "        self.fc1 = nn.Linear(in_features=self.lstm_size, out_features=self.output_dim) # Fully connected layer\n",
    "\n",
    "        self.softmax = nn.Softmax(dim=1) # normalize in dim 1\n",
    "\n",
    "    def forward(self, x, prev_state):\n",
    "        out = self.embedding(x)\n",
    "        lstm_output, (ht, ct) = self.lstm(out, prev_state)\n",
    "        out = self.softmax(self.fc1(lstm_output[:,-1,:])) # take last output (last seq)\n",
    "        return out, (ht, ct)\n",
    "\n",
    "class Seq2Seq(nn.Module):\n",
    "    def __init__(self, encoder, decoder):\n",
    "        super().__init__()\n",
    "\n",
    "        self.encoder = encoder\n",
    "        self.decoder = decoder\n",
    "\n",
    "        assert encoder.lstm_size == decoder.lstm_size, \\\n",
    "            \"Hidden dimensions of encoder and decoder must be equal!\"\n",
    "        assert encoder.num_layers == decoder.num_layers, \\\n",
    "            \"Encoder and decoder must have equal number of layers!\"\n",
    "\n",
    "    def forward(self, encoder_input, decoder_input):\n",
    "        batch_size = decoder_input.shape[0]\n",
    "        decoder_input_len = decoder_input.shape[1]\n",
    "        vocab_size = self.decoder.output_dim\n",
    "\n",
    "        # tensor para almacenar la salida\n",
    "        # (batch_size, sentence_len, one_hot_size)\n",
    "        outputs = torch.zeros(batch_size, decoder_input_len, vocab_size)\n",
    "\n",
    "        # ultimo hidden state del encoder, primer estado oculto del decoder\n",
    "        prev_state = self.encoder(encoder_input)\n",
    "\n",
    "        # En la primera iteracion se toma el primer token de target (<sos>)\n",
    "        input = decoder_input[:, 0:1]\n",
    "\n",
    "        for t in range(decoder_input_len):\n",
    "            # t --> token index\n",
    "\n",
    "            # utilizamos método \"teacher forcing\", es decir que durante\n",
    "            # el entrenamiento no realimentamos la salida del decoder\n",
    "            # sino el token correcto que sigue en target\n",
    "            input = decoder_input[:, t:t+1]\n",
    "\n",
    "            # ingresar cada token embedding, uno por uno junto al hidden state\n",
    "            # recibir el output del decoder (softmax)\n",
    "            output, prev_state = self.decoder(input, prev_state)\n",
    "            top1 = output.argmax(1).view(-1, 1)\n",
    "\n",
    "            # Sino se usará \"teacher forcing\" habría que descomentar\n",
    "            # esta linea.\n",
    "            # Hay ejemplos dandos vuelta en donde se utilza un random\n",
    "            # para ver en cada vuelta que técnica se aplica\n",
    "            #input = top1\n",
    "\n",
    "            # guardar cada salida (softmax)\n",
    "            outputs[:, t, :] = output\n",
    "\n",
    "        return outputs\n",
    "\n",
    "encoder = Encoder(vocab_size=nb_words)\n",
    "if cuda: encoder.cuda()\n",
    "# decoder --> vocab_size == output_dim --> porque recibe y devuelve palabras en el mismo vocabulario\n",
    "decoder = Decoder(vocab_size=num_words_output, output_dim=num_words_output)\n",
    "if cuda: decoder.cuda()\n",
    "\n",
    "model = Seq2Seq(encoder, decoder)\n",
    "if cuda: model.cuda()\n",
    "\n",
    "encoder_input = data_set[0:1][0]\n",
    "decoder_input = data_set[0:1][1]\n",
    "if cuda:\n",
    "    encoder_input = encoder_input.cuda()\n",
    "    decoder_input = decoder_input.cuda()\n",
    "\n",
    "# Crear el optimizador la una función de error\n",
    "optimizer = torch.optim.Adam(model.parameters(), lr=0.001)\n",
    "criterion = torch.nn.CrossEntropyLoss()  # Para clasificación multi categórica\n",
    "\n",
    "summary(model, input_data=(encoder_input, decoder_input))"
   ]
  },
  {
   "cell_type": "code",
   "execution_count": 21,
   "metadata": {
    "id": "o4lcFLEQJB3Q"
   },
   "outputs": [],
   "source": [
    "def sequence_acc(y_pred, y_test):\n",
    "    y_pred_tag = y_pred.data.max(dim=-1,keepdim=True)[1]\n",
    "    y_test_tag = y_test.data.max(dim=-1,keepdim=True)[1]\n",
    "\n",
    "    batch_size = y_pred_tag.shape[0]\n",
    "    batch_acc = torch.zeros(batch_size)\n",
    "    for b in range(batch_size):\n",
    "        correct_results_sum = (y_pred_tag[b] == y_test_tag[b]).sum().float()\n",
    "        batch_acc[b] = correct_results_sum / y_pred_tag[b].shape[0]\n",
    "\n",
    "    correct_results_sum = batch_acc.sum().float()\n",
    "    acc = correct_results_sum / batch_size\n",
    "    return acc\n",
    "\n",
    "def train(model, train_loader, valid_loader, optimizer, criterion, epochs=100):\n",
    "    # Defino listas para realizar graficas de los resultados\n",
    "    train_loss = []\n",
    "    train_accuracy = []\n",
    "    valid_loss = []\n",
    "    valid_accuracy = []\n",
    "\n",
    "    # Defino mi loop de entrenamiento\n",
    "\n",
    "    for epoch in range(epochs):\n",
    "\n",
    "        epoch_train_loss = 0.0\n",
    "        epoch_train_accuracy = 0.0\n",
    "\n",
    "        for train_encoder_input, train_decoder_input, train_target in train_loader:\n",
    "            # Seteo los gradientes en cero ya que, por defecto, PyTorch\n",
    "            # los va acumulando\n",
    "            optimizer.zero_grad()\n",
    "\n",
    "            output = model(train_encoder_input.to(device), train_decoder_input.to(device))\n",
    "\n",
    "            # Computo el error de la salida comparando contra las etiquetas\n",
    "            # por cada token en cada batch (sequence_loss)\n",
    "            loss = 0\n",
    "            for t in range(train_decoder_input.shape[1]):\n",
    "                loss += criterion(output[:, t, :], train_target[:, t, :])\n",
    "\n",
    "            # Almaceno el error del batch para luego tener el error promedio de la epoca\n",
    "            epoch_train_loss += loss.item()\n",
    "\n",
    "            # Computo el nuevo set de gradientes a lo largo de toda la red\n",
    "            loss.backward()\n",
    "\n",
    "            # Realizo el paso de optimizacion actualizando los parametros de toda la red\n",
    "            optimizer.step()\n",
    "\n",
    "            # Calculo el accuracy del batch\n",
    "            accuracy = sequence_acc(output, train_target)\n",
    "            # Almaceno el accuracy del batch para luego tener el accuracy promedio de la epoca\n",
    "            epoch_train_accuracy += accuracy.item()\n",
    "\n",
    "        # Calculo la media de error para la epoca de entrenamiento.\n",
    "        # La longitud de train_loader es igual a la cantidad de batches dentro de una epoca.\n",
    "        epoch_train_loss = epoch_train_loss / len(train_loader)\n",
    "        train_loss.append(epoch_train_loss)\n",
    "        epoch_train_accuracy = epoch_train_accuracy / len(train_loader)\n",
    "        train_accuracy.append(epoch_train_accuracy)\n",
    "\n",
    "        # Realizo el paso de validación computando error y accuracy, y\n",
    "        # almacenando los valores para imprimirlos y graficarlos\n",
    "        valid_encoder_input, valid_decoder_input, valid_target = next(iter(valid_loader))\n",
    "        output = model(valid_encoder_input.to(device), valid_decoder_input.to(device))\n",
    "\n",
    "        epoch_valid_loss = 0\n",
    "        for t in range(train_decoder_input.shape[1]):\n",
    "                epoch_valid_loss += criterion(output[:, t, :], valid_target[:, t, :])\n",
    "        epoch_valid_loss = epoch_valid_loss.item()\n",
    "\n",
    "        valid_loss.append(epoch_valid_loss)\n",
    "\n",
    "        # Calculo el accuracy de la epoch\n",
    "        epoch_valid_accuracy = sequence_acc(output, valid_target).item()\n",
    "        valid_accuracy.append(epoch_valid_accuracy)\n",
    "\n",
    "        print(f\"Epoch: {epoch+1}/{epochs} - Train loss {epoch_train_loss:.3f} - Train accuracy {epoch_train_accuracy:.3f} - Valid Loss {epoch_valid_loss:.3f} - Valid accuracy {epoch_valid_accuracy:.3f}\")\n",
    "\n",
    "    return {\n",
    "        \"loss\": train_loss,\n",
    "        \"accuracy\": train_accuracy,\n",
    "        \"val_loss\": valid_loss,\n",
    "        \"val_accuracy\": valid_accuracy,\n",
    "    }"
   ]
  },
  {
   "cell_type": "code",
   "execution_count": 22,
   "metadata": {
    "id": "52DZkzeHGCyb"
   },
   "outputs": [
    {
     "name": "stdout",
     "output_type": "stream",
     "text": [
      "Epoch: 1/20 - Train loss 128.923 - Train accuracy 0.484 - Valid Loss 122.272 - Valid accuracy 0.562\n",
      "Epoch: 2/20 - Train loss 121.678 - Train accuracy 0.591 - Valid Loss 122.127 - Valid accuracy 0.562\n",
      "Epoch: 3/20 - Train loss 121.633 - Train accuracy 0.592 - Valid Loss 122.113 - Valid accuracy 0.563\n",
      "Epoch: 4/20 - Train loss 121.617 - Train accuracy 0.593 - Valid Loss 122.110 - Valid accuracy 0.564\n",
      "Epoch: 5/20 - Train loss 121.606 - Train accuracy 0.594 - Valid Loss 122.110 - Valid accuracy 0.564\n",
      "Epoch: 6/20 - Train loss 121.608 - Train accuracy 0.593 - Valid Loss 122.112 - Valid accuracy 0.563\n",
      "Epoch: 7/20 - Train loss 121.606 - Train accuracy 0.593 - Valid Loss 122.113 - Valid accuracy 0.563\n",
      "Epoch: 8/20 - Train loss 121.600 - Train accuracy 0.594 - Valid Loss 122.120 - Valid accuracy 0.562\n",
      "Epoch: 9/20 - Train loss 121.604 - Train accuracy 0.593 - Valid Loss 122.128 - Valid accuracy 0.562\n",
      "Epoch: 10/20 - Train loss 121.588 - Train accuracy 0.594 - Valid Loss 122.122 - Valid accuracy 0.562\n",
      "Epoch: 11/20 - Train loss 121.595 - Train accuracy 0.594 - Valid Loss 122.120 - Valid accuracy 0.563\n",
      "Epoch: 12/20 - Train loss 121.588 - Train accuracy 0.594 - Valid Loss 122.119 - Valid accuracy 0.563\n",
      "Epoch: 13/20 - Train loss 121.591 - Train accuracy 0.594 - Valid Loss 122.118 - Valid accuracy 0.563\n",
      "Epoch: 14/20 - Train loss 121.587 - Train accuracy 0.594 - Valid Loss 122.117 - Valid accuracy 0.563\n",
      "Epoch: 15/20 - Train loss 121.584 - Train accuracy 0.594 - Valid Loss 122.117 - Valid accuracy 0.563\n",
      "Epoch: 16/20 - Train loss 121.589 - Train accuracy 0.594 - Valid Loss 122.116 - Valid accuracy 0.563\n",
      "Epoch: 17/20 - Train loss 121.588 - Train accuracy 0.594 - Valid Loss 122.115 - Valid accuracy 0.563\n",
      "Epoch: 18/20 - Train loss 121.586 - Train accuracy 0.594 - Valid Loss 122.119 - Valid accuracy 0.563\n",
      "Epoch: 19/20 - Train loss 121.519 - Train accuracy 0.599 - Valid Loss 122.046 - Valid accuracy 0.567\n",
      "Epoch: 20/20 - Train loss 121.467 - Train accuracy 0.602 - Valid Loss 122.012 - Valid accuracy 0.569\n"
     ]
    }
   ],
   "source": [
    "history1 = train(model,\n",
    "                train_loader,\n",
    "                valid_loader,\n",
    "                optimizer,\n",
    "                criterion,\n",
    "                epochs=20\n",
    "                )"
   ]
  },
  {
   "cell_type": "code",
   "execution_count": 23,
   "metadata": {
    "id": "Xm_ea7-UMU3j"
   },
   "outputs": [
    {
     "name": "stderr",
     "output_type": "stream",
     "text": [
      "c:\\Users\\Emel\\anaconda3\\Lib\\site-packages\\seaborn\\_oldcore.py:1119: FutureWarning: use_inf_as_na option is deprecated and will be removed in a future version. Convert inf values to NaN before operating instead.\n",
      "  with pd.option_context('mode.use_inf_as_na', True):\n",
      "c:\\Users\\Emel\\anaconda3\\Lib\\site-packages\\seaborn\\_oldcore.py:1119: FutureWarning: use_inf_as_na option is deprecated and will be removed in a future version. Convert inf values to NaN before operating instead.\n",
      "  with pd.option_context('mode.use_inf_as_na', True):\n",
      "c:\\Users\\Emel\\anaconda3\\Lib\\site-packages\\seaborn\\_oldcore.py:1119: FutureWarning: use_inf_as_na option is deprecated and will be removed in a future version. Convert inf values to NaN before operating instead.\n",
      "  with pd.option_context('mode.use_inf_as_na', True):\n",
      "c:\\Users\\Emel\\anaconda3\\Lib\\site-packages\\seaborn\\_oldcore.py:1119: FutureWarning: use_inf_as_na option is deprecated and will be removed in a future version. Convert inf values to NaN before operating instead.\n",
      "  with pd.option_context('mode.use_inf_as_na', True):\n"
     ]
    },
    {
     "data": {
      "image/png": "[encoded data removed]",
      "text/plain": [
       "<Figure size 640x480 with 1 Axes>"
      ]
     },
     "metadata": {},
     "output_type": "display_data"
    }
   ],
   "source": [
    "epoch_count = range(1, len(history1['accuracy']) + 1)\n",
    "sns.lineplot(x=epoch_count,  y=history1['accuracy'], label='train')\n",
    "sns.lineplot(x=epoch_count,  y=history1['val_accuracy'], label='valid')\n",
    "plt.show()"
   ]
  },
  {
   "cell_type": "code",
   "execution_count": 24,
   "metadata": {
    "id": "NPBoV_vvLYJN"
   },
   "outputs": [],
   "source": [
    "# Armar lo conversores de indice a palabra:\n",
    "idx2word_input = {v:k for k, v in word2idx_inputs.items()}\n",
    "idx2word_target = {v:k for k, v in word2idx_outputs.items()}"
   ]
  },
  {
   "cell_type": "markdown",
   "metadata": {
    "id": "Zbwn0ekDy_s2"
   },
   "source": [
    "### 5 - Inferencia\n",
    "Experimentar el funcionamiento de su modelo. Recuerde que debe realizar la inferencia de los modelos por separado de encoder y decoder."
   ]
  },
  {
   "cell_type": "code",
   "execution_count": null,
   "metadata": {
    "id": "HRw4eF35L0ce"
   },
   "outputs": [
    {
     "name": "stdout",
     "output_type": "stream",
     "text": [
      "Input: Hi\n",
      "Representacion en vector de tokens de ids [903]\n",
      "Padding del vector: [[  0   0   0   0   0   0   0   0   0   0   0   0   0   0   0 903]]\n",
      "Response: i you i you i\n"
     ]
    }
   ],
   "source": [
    "def response_sentence(input_test):\n",
    "    print('Input:', input_test)\n",
    "    integer_seq_test = input_tokenizer.texts_to_sequences([input_test])[0]\n",
    "    print(\"Representacion en vector de tokens de ids\", integer_seq_test)\n",
    "    encoder_sequence_test = pad_sequences([integer_seq_test], maxlen=max_input_len)\n",
    "    print(\"Padding del vector:\", encoder_sequence_test)\n",
    "    encoder_sequence_test_tensor = torch.from_numpy(encoder_sequence_test.astype(np.int32))\n",
    "\n",
    "    # Se obtiene la salida del encoder (el estado oculto para el decoder)\n",
    "    prev_state = model.encoder(encoder_sequence_test_tensor.to(device))\n",
    "\n",
    "    # Se inicializa la secuencia de entrada al decoder como \"<sos>\"\n",
    "    target_seq = np.zeros((1, 1))\n",
    "    target_seq[0, 0] = word2idx_outputs['<sos>']\n",
    "    target_seq_tensor = torch.from_numpy(target_seq.astype(np.int32))\n",
    "\n",
    "    # Se obtiene la primera palabra de la secuencia de salida del decoder\n",
    "    output, prev_state = model.decoder(target_seq_tensor.to(device), prev_state)\n",
    "\n",
    "    output_sentence = []\n",
    "    for _ in range(max_out_len):\n",
    "        # Predicción del próximo elemento\n",
    "        output, prev_state = model.decoder(target_seq_tensor.to(device), prev_state)\n",
    "        top1 = output.argmax(1).view(-1, 1)\n",
    "        idx = int(top1.cpu())\n",
    "\n",
    "        # Transformar ídx a palabra\n",
    "        word = ''\n",
    "        if idx > 0:\n",
    "            word = idx2word_target[idx]\n",
    "            output_sentence.append(word)\n",
    "\n",
    "        # Actualizar los estados dado la ultimo prediccion\n",
    "        prev_state = prev_state\n",
    "\n",
    "        # Actualizar secuencia de entrada con la salida (re-alimentacion)\n",
    "        target_seq_tensor = top1\n",
    "\n",
    "    return ' '.join(output_sentence)\n",
    "\n",
    "\n",
    "input_test = \"Do you read?\"\n",
    "translation = response_sentence(input_test)\n",
    "print('Response:', translation)\n"
   ]
  },
  {
   "cell_type": "markdown",
   "metadata": {},
   "source": [
    "No se vio una generacion satisfactoria de respuestas. Con distintas entradas, la respuesta era similar: i you i you.\n",
    "Se probara reimplementando el metodo con uno funcion de seleccion de la palabra distinta, en este caso binomial"
   ]
  },
  {
   "cell_type": "code",
   "execution_count": 33,
   "metadata": {},
   "outputs": [
    {
     "name": "stdout",
     "output_type": "stream",
     "text": [
      "Input: Do you read?\n",
      "Representacion en vector de tokens de ids [8, 2, 375]\n",
      "Padding del vector: [[  0   0   0   0   0   0   0   0   0   0   0   0   0   8   2 375]]\n",
      "Response: meant placed lately poker pets favorite teach thought kids upset driving anniversary stock screws cop mans smoker\n"
     ]
    }
   ],
   "source": [
    "def response_sentence(input_test):\n",
    "    print('Input:', input_test)\n",
    "    integer_seq_test = input_tokenizer.texts_to_sequences([input_test])[0]\n",
    "    print(\"Representacion en vector de tokens de ids\", integer_seq_test)\n",
    "    encoder_sequence_test = pad_sequences([integer_seq_test], maxlen=max_input_len)\n",
    "    print(\"Padding del vector:\", encoder_sequence_test)\n",
    "    encoder_sequence_test_tensor = torch.from_numpy(encoder_sequence_test.astype(np.int32))\n",
    "    # Se transforma la sequencia de entrada a los stados \"h\" y \"c\" de la LSTM\n",
    "    # para enviar la primera vez al decoder\"\n",
    "    prev_state = model.encoder(encoder_sequence_test_tensor.to(device))\n",
    "\n",
    "    # Se inicializa la secuencia de entrada al decoder como \"<sos>\"\n",
    "    target_seq = np.zeros((1, 1))\n",
    "    target_seq[0, 0] = word2idx_outputs['<sos>']\n",
    "    target_seq_tensor = torch.from_numpy(target_seq.astype(np.int32))\n",
    "\n",
    "    # Se obtiene el indice que finaliza la inferencia\n",
    "    eos = word2idx_outputs['<eos>']\n",
    "\n",
    "    output_sentence = []\n",
    "    for _ in range(max_out_len):\n",
    "        # Predicción del próximo elemento\n",
    "        output, new_prev_state = model.decoder(target_seq_tensor.to(device), prev_state)\n",
    "        probs = F.softmax(output, dim=-1)  # Apply softmax to get probabilities\n",
    "        top1 = torch.multinomial(probs, 1).view(-1, 1)  # Sample from the probabilities\n",
    "        idx = int(top1.cpu())\n",
    "\n",
    "        # Si es \"end of sentece <eos>\" se acaba\n",
    "        if eos == idx:\n",
    "            break\n",
    "\n",
    "        # Transformar ídx a palabra\n",
    "        word = ''\n",
    "        if idx > 0:\n",
    "            word = idx2word_target[idx]\n",
    "            output_sentence.append(word)\n",
    "\n",
    "        # Actualizar los estados dado la ultimo prediccion\n",
    "        prev_state = new_prev_state\n",
    "\n",
    "        # Actualizar secuencia de entrada con la salida (re-alimentacion)\n",
    "        target_seq_tensor = top1\n",
    "\n",
    "    return ' '.join(output_sentence)\n",
    "\n",
    "input_test = \"Do you read?\"\n",
    "translation = response_sentence(input_test)\n",
    "print('Response:', translation)"
   ]
  },
  {
   "cell_type": "markdown",
   "metadata": {},
   "source": [
    "Si bien, se vio cambio al ya no ser la misma palabra. No se vio correlacion entre ellos"
   ]
  }
 ],
 "metadata": {
  "colab": {
   "provenance": []
  },
  "kernelspec": {
   "display_name": "Python 3",
   "name": "python3"
  },
  "language_info": {
   "codemirror_mode": {
    "name": "ipython",
    "version": 3
   },
   "file_extension": ".py",
   "mimetype": "text/x-python",
   "name": "python",
   "nbconvert_exporter": "python",
   "pygments_lexer": "ipython3",
   "version": "3.11.7"
  },
  "vscode": {
   "interpreter": {
    "hash": "916dbcbb3f70747c44a77c7bcd40155683ae19c65e1c03b4aa3499c5328201f1"
   }
  }
 },
 "nbformat": 4,
 "nbformat_minor": 0
}
